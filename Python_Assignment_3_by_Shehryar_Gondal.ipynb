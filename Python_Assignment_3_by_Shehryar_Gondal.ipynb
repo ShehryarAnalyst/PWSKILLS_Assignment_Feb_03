{
 "cells": [
  {
   "cell_type": "markdown",
   "id": "53d329c7",
   "metadata": {},
   "source": [
    "## Assignment Question"
   ]
  },
  {
   "cell_type": "markdown",
   "id": "af7206c2",
   "metadata": {},
   "source": [
    "__Q1) Explain with an example each when to use a for loop and a while loop ?__\n",
    "\n",
    "__Ans)__ A __for loop__ is used when you have a specific number of iterations to perform, and you know the number of iterations ahead of time. For example, consider the following code, which prints the numbers 1 to 10. <br>\n",
    "A __while loop__, on the other hand, is used when you need to repeat a block of code as long as a certain condition is met. For example, consider the following code, which calculates the factorial of a number."
   ]
  },
  {
   "cell_type": "markdown",
   "id": "347febcc",
   "metadata": {},
   "source": [
    "__Q2) Write a python program to print the sum and product of the first 10 natural numbers using for and while loop ?__"
   ]
  },
  {
   "cell_type": "markdown",
   "id": "01f75c5a",
   "metadata": {},
   "source": [
    "### By for loop"
   ]
  },
  {
   "cell_type": "code",
   "execution_count": 11,
   "id": "414ed67f",
   "metadata": {},
   "outputs": [
    {
     "name": "stdout",
     "output_type": "stream",
     "text": [
      "Sum of first 10 natural number is : 55\n",
      "Sum of first 10 natural number is : 3628800\n"
     ]
    }
   ],
   "source": [
    "sum_num=0\n",
    "product=1\n",
    "\n",
    "for i in range(1,11,1):\n",
    "    sum_num=sum_num + i\n",
    "    product=product * i\n",
    "    \n",
    "print(\"Sum of first 10 natural number is :\", sum_num)\n",
    "print(\"Sum of first 10 natural number is :\", product)"
   ]
  },
  {
   "cell_type": "markdown",
   "id": "e837ee7d",
   "metadata": {},
   "source": [
    "### By while loop"
   ]
  },
  {
   "cell_type": "code",
   "execution_count": 17,
   "id": "2041806c",
   "metadata": {},
   "outputs": [
    {
     "name": "stdout",
     "output_type": "stream",
     "text": [
      "Sum of first 10 natural number is : 55\n",
      "Sum of first 10 natural number is : 3628800\n"
     ]
    }
   ],
   "source": [
    "sum_num=0\n",
    "product=1\n",
    "i=1\n",
    "while i<=10:\n",
    "    sum_num=sum_num + i\n",
    "    product=product * i\n",
    "    i=i+1\n",
    "    \n",
    "print(\"Sum of first 10 natural number is :\", sum_num)\n",
    "print(\"Sum of first 10 natural number is :\", product)"
   ]
  },
  {
   "cell_type": "markdown",
   "id": "ac091036",
   "metadata": {},
   "source": [
    "__Q3) Create a python program to compute the electricity bill for a household.\n",
    "The per-unit charges in rupees are as follows: For the first 100 units, the user will be charged Rs. 4.5 per unit, for the next 100 units, the user will be charged Rs. 6 per unit, and for the next 100 units, the user will be charged Rs. 10 per unit, After 300 units and above the user will be charged Rs. 20 per unit.\n",
    "You are required to take the units of electricity consumed in a month from the user as input.\n",
    "Your program must pass this test case: when the unit of electricity consumed by the user in a month is 310, the total electricity bill should be 2250__."
   ]
  },
  {
   "cell_type": "code",
   "execution_count": 36,
   "id": "87dcd3a3",
   "metadata": {},
   "outputs": [
    {
     "name": "stdout",
     "output_type": "stream",
     "text": [
      "Enter the number of units consumed by peoples: 20\n",
      "Your total electricity bill is Rs. 90\n"
     ]
    }
   ],
   "source": [
    "units = int(input(\"Enter the number of units consumed by peoples: \"))\n",
    "rupees=0\n",
    "if units <= 100:\n",
    "    rupees = units * 4.5\n",
    "elif units <= 200:\n",
    "    rupees = 100 * 4.5 + (units - 100) * 6\n",
    "elif units <= 300:\n",
    "    rupees = 100 * 4.5 + 100 * 6 + (units - 200) * 10\n",
    "else:\n",
    "    rupees = 100 * 4.5 + 100 * 6 + 100 * 10 + (units - 300) * 20\n",
    "\n",
    "print(\"Your total electricity bill is Rs.\", int(rupees))\n"
   ]
  },
  {
   "cell_type": "markdown",
   "id": "f59c9ea7",
   "metadata": {},
   "source": [
    "__Q4) Create a list of numbers from 1 to 100. Use for loop and while loop to calculate the cube of each number and if the cube of that number is divisible by 4 or 5 then append that number in a list and print that list.__"
   ]
  },
  {
   "cell_type": "code",
   "execution_count": 37,
   "id": "3bb81c96",
   "metadata": {},
   "outputs": [],
   "source": [
    "list1=list(range(1,101,1))"
   ]
  },
  {
   "cell_type": "code",
   "execution_count": 55,
   "id": "dac99e08",
   "metadata": {},
   "outputs": [
    {
     "name": "stdout",
     "output_type": "stream",
     "text": [
      "The numbers cube are: [1, 8, 27, 64, 125, 216, 343, 512, 729, 1000, 1331, 1728, 2197, 2744, 3375, 4096, 4913, 5832, 6859, 8000, 9261, 10648, 12167, 13824, 15625, 17576, 19683, 21952, 24389, 27000, 29791, 32768, 35937, 39304, 42875, 46656, 50653, 54872, 59319, 64000, 68921, 74088, 79507, 85184, 91125, 97336, 103823, 110592, 117649, 125000, 132651, 140608, 148877, 157464, 166375, 175616, 185193, 195112, 205379, 216000, 226981, 238328, 250047, 262144, 274625, 287496, 300763, 314432, 328509, 343000, 357911, 373248, 389017, 405224, 421875, 438976, 456533, 474552, 493039, 512000, 531441, 551368, 571787, 592704, 614125, 636056, 658503, 681472, 704969, 729000, 753571, 778688, 804357, 830584, 857375, 884736, 912673, 941192, 970299, 1000000]\n",
      "\n",
      "\n",
      "The numbers whose cube is divisible by 4 or 5 are: [2, 4, 5, 6, 8, 10, 12, 14, 15, 16, 18, 20, 22, 24, 25, 26, 28, 30, 32, 34, 35, 36, 38, 40, 42, 44, 45, 46, 48, 50, 52, 54, 55, 56, 58, 60, 62, 64, 65, 66, 68, 70, 72, 74, 75, 76, 78, 80, 82, 84, 85, 86, 88, 90, 92, 94, 95, 96, 98, 100]\n"
     ]
    }
   ],
   "source": [
    "list_div_by5_4=[]\n",
    "cube_list_numbers=[]\n",
    "for i in list1:\n",
    "    cube = i ** 3\n",
    "    cube_list_numbers.append(cube)\n",
    "    if cube % 4 == 0 or cube % 5 == 0:\n",
    "        list_div_by5_4.append(i)\n",
    "\n",
    "print(\"The numbers cube are:\",cube_list_numbers)\n",
    "print('\\n')\n",
    "print(\"The numbers whose cube is divisible by 4 or 5 are:\",list_div_by5_4)\n"
   ]
  },
  {
   "cell_type": "code",
   "execution_count": 56,
   "id": "f5876456",
   "metadata": {},
   "outputs": [
    {
     "name": "stdout",
     "output_type": "stream",
     "text": [
      "The numbers whose cube is divisible by 4 or 5 are: [2, 4, 5, 6, 8, 10, 12, 14, 15, 16, 18, 20, 22, 24, 25, 26, 28, 30, 32, 34, 35, 36, 38, 40, 42, 44, 45, 46, 48, 50, 52, 54, 55, 56, 58, 60, 62, 64, 65, 66, 68, 70, 72, 74, 75, 76, 78, 80, 82, 84, 85, 86, 88, 90, 92, 94, 95, 96, 98, 100]\n"
     ]
    }
   ],
   "source": [
    "numbers_div_by_5_4 = []\n",
    "i = 1\n",
    "while i <= 100:\n",
    "    cube = i ** 3\n",
    "    if cube % 4 == 0 or cube % 5 == 0:\n",
    "        numbers.append(i)\n",
    "    i += 1\n",
    "\n",
    "print(\"The numbers whose cube is divisible by 4 or 5 are:\",numbers_div_by_5_4 )\n"
   ]
  },
  {
   "cell_type": "markdown",
   "id": "f0c43e33",
   "metadata": {},
   "source": [
    "__Q5. Write a program to filter count vowels in the below-given string.\n",
    "string = \"I want to become a data scientist\"__"
   ]
  },
  {
   "cell_type": "code",
   "execution_count": 64,
   "id": "2cb53f15",
   "metadata": {},
   "outputs": [
    {
     "name": "stdout",
     "output_type": "stream",
     "text": [
      "Vowels appeared in given string are : 12\n"
     ]
    }
   ],
   "source": [
    "string = 'I want to become a data scientist'\n",
    "vowels = \"aeiouAEIOU\"\n",
    "count=0\n",
    "for i in string:\n",
    "    if i in vowels:\n",
    "        count+=1\n",
    "print(\"Vowels appeared in given string are :\" , count)\n",
    "    "
   ]
  },
  {
   "cell_type": "markdown",
   "id": "db93570a",
   "metadata": {},
   "source": [
    "-------------------------------------------------------------------------------------------- __End__----------------------------------------------------------------------------------------------------------------"
   ]
  }
 ],
 "metadata": {
  "kernelspec": {
   "display_name": "Python 3 (ipykernel)",
   "language": "python",
   "name": "python3"
  },
  "language_info": {
   "codemirror_mode": {
    "name": "ipython",
    "version": 3
   },
   "file_extension": ".py",
   "mimetype": "text/x-python",
   "name": "python",
   "nbconvert_exporter": "python",
   "pygments_lexer": "ipython3",
   "version": "3.9.12"
  },
  "varInspector": {
   "cols": {
    "lenName": 16,
    "lenType": 16,
    "lenVar": 40
   },
   "kernels_config": {
    "python": {
     "delete_cmd_postfix": "",
     "delete_cmd_prefix": "del ",
     "library": "var_list.py",
     "varRefreshCmd": "print(var_dic_list())"
    },
    "r": {
     "delete_cmd_postfix": ") ",
     "delete_cmd_prefix": "rm(",
     "library": "var_list.r",
     "varRefreshCmd": "cat(var_dic_list()) "
    }
   },
   "types_to_exclude": [
    "module",
    "function",
    "builtin_function_or_method",
    "instance",
    "_Feature"
   ],
   "window_display": false
  }
 },
 "nbformat": 4,
 "nbformat_minor": 5
}
