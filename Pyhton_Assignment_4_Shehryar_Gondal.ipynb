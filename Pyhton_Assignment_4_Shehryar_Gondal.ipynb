{
 "cells": [
  {
   "cell_type": "markdown",
   "id": "ab1ca8ad",
   "metadata": {},
   "source": [
    "## Assignment Questions"
   ]
  },
  {
   "cell_type": "markdown",
   "id": "5ad9c509",
   "metadata": {},
   "source": [
    "__Q1. Which keyword is used to create a function? Create a function to return a list of odd numbers in the range of 1 to 25.__\n",
    "\n",
    "__Ans)__ The keyword use to define function is __def__."
   ]
  },
  {
   "cell_type": "code",
   "execution_count": 5,
   "id": "50e3af55",
   "metadata": {},
   "outputs": [
    {
     "name": "stdout",
     "output_type": "stream",
     "text": [
      "The odd number list is : [3, 6, 9, 12, 15, 18, 21, 24]\n"
     ]
    }
   ],
   "source": [
    "def odd_num_generator(l):\n",
    "    l3=[]\n",
    "    for i in l:\n",
    "        if i%3==0:\n",
    "            l3.append(i)\n",
    "    return l3\n",
    "\n",
    "l4=list(range(1,26,1))\n",
    "l5=odd_num_generator(l4)\n",
    "print(\"The odd number list is :\", l5)"
   ]
  },
  {
   "cell_type": "markdown",
   "id": "ae2394cd",
   "metadata": {},
   "source": [
    "__Q2. Why *args and **kwargs is used in some functions? Create a function each for *args and **kwargs to demonstrate their use.__\n",
    "\n",
    "__Ans)__ __*args__ allows for a variable number of non-keyword arguments in a function, denoted by the * symbol before the argument name (e.g. *args).\n",
    "\n",
    "Example:\n",
    "def test1(*args): <br>\n",
    "return args <br>\n",
    "\n",
    "test1(1,2,3)\n",
    "#### Ouput (1,2,3) <br>\n",
    "\n",
    "__**kwargs__ allows for a variable number of keyword arguments, denoted by the ** symbol before the argument name (e.g. **kwargs).\n",
    "\n",
    "Example:\n",
    "def test1(**args): <br>\n",
    "return args <br>\n",
    "\n",
    "test1()\n",
    "#### {} return empty dictionary <br>\n",
    "\n",
    "\n"
   ]
  },
  {
   "cell_type": "markdown",
   "id": "7bd281f0",
   "metadata": {},
   "source": [
    "__Q3. What is an iterator in python? Name the method used to initialise the iterator object and the method used for iteration. Use these methods to print the first five elements of the given list [2, 4, 6, 8, 10, 12, 14, 16, 18, 20].__\n",
    "\n",
    "__Ans)__ An __iterator__ in Python is an object that implements two methods, __iter__ and __next__, that allow it to be used in a for loop. The __iter__ method initializes the iterator and returns itself, while the __next__ method returns the next item in the iteration. This allows for efficient iteration and avoids the need to load all elements into memory at once."
   ]
  },
  {
   "cell_type": "code",
   "execution_count": 6,
   "id": "51d4d0ee",
   "metadata": {},
   "outputs": [
    {
     "name": "stdout",
     "output_type": "stream",
     "text": [
      "2\n",
      "4\n",
      "6\n",
      "8\n",
      "10\n"
     ]
    }
   ],
   "source": [
    "numbers = [2, 4, 6, 8, 10, 12, 14, 16, 18, 20]\n",
    "numbers_iterator = iter(numbers)\n",
    "\n",
    "for i in range(5):\n",
    "    print(next(numbers_iterator))"
   ]
  },
  {
   "cell_type": "markdown",
   "id": "f2ed5af2",
   "metadata": {},
   "source": [
    "__Q4. What is a generator function in python? Why yield keyword is used? Give an example of a generator function.__\n",
    "\n",
    "__Ans)__ A __generator__ function in Python is a special type of function that uses yield instead of return. It returns a generator object, allowing for efficient iteration over a series of values produced by the function. The __yield__ keyword returns a value from the function and saves its state, so it can be resumed later.<br>\n",
    "Example: \n",
    "def count(n):<br>\n",
    "    count=1<br>\n",
    "    while count <=n:<br>\n",
    "        yield count<br>\n",
    "        count+=1<br>\n",
    "        \n",
    "c=iter(count(5))\n",
    "\n",
    "print(next(c)) # output 1 <br>\n",
    "print(next(c)) # output 2 <br>"
   ]
  },
  {
   "cell_type": "markdown",
   "id": "b26dc18c",
   "metadata": {},
   "source": [
    "__Q5. Create a generator function for prime numbers less than 1000. Use the next() method to print the first 20 prime numbers__"
   ]
  },
  {
   "cell_type": "code",
   "execution_count": 20,
   "id": "3c1ef03a",
   "metadata": {},
   "outputs": [],
   "source": [
    "def prime_numbers():\n",
    "    \"\"\"\n",
    "    It first yields 2 and then starts a loop that considers odd numbers as\n",
    "    candidates for primes. For each candidate, the function checks whether \n",
    "    it is divisible by any of the previously found primes. If the candidate\n",
    "    is not divisible, it is added to the list of primes and returned as a value from the generator.\n",
    "    \n",
    "    \"\"\"\n",
    "    yield 2\n",
    "    primes = [2]\n",
    "    candidate = 3  # \n",
    "    while candidate < 1000:\n",
    "        is_prime = True\n",
    "        for prime in primes:\n",
    "            if candidate % prime == 0:\n",
    "                is_prime = False\n",
    "                break\n",
    "        if is_prime:\n",
    "            primes.append(candidate)\n",
    "            yield candidate\n",
    "        candidate += 2"
   ]
  },
  {
   "cell_type": "code",
   "execution_count": 21,
   "id": "c458ed59",
   "metadata": {},
   "outputs": [
    {
     "name": "stdout",
     "output_type": "stream",
     "text": [
      "The 0  Prime number is : 2\n",
      "The 1  Prime number is : 3\n",
      "The 2  Prime number is : 5\n",
      "The 3  Prime number is : 7\n",
      "The 4  Prime number is : 11\n",
      "The 5  Prime number is : 13\n",
      "The 6  Prime number is : 17\n",
      "The 7  Prime number is : 19\n",
      "The 8  Prime number is : 23\n",
      "The 9  Prime number is : 29\n",
      "The 10  Prime number is : 31\n",
      "The 11  Prime number is : 37\n",
      "The 12  Prime number is : 41\n",
      "The 13  Prime number is : 43\n",
      "The 14  Prime number is : 47\n",
      "The 15  Prime number is : 53\n",
      "The 16  Prime number is : 59\n",
      "The 17  Prime number is : 61\n",
      "The 18  Prime number is : 67\n",
      "The 19  Prime number is : 71\n"
     ]
    }
   ],
   "source": [
    "primes = prime_numbers()\n",
    "for i in range(20):\n",
    "    print(\"The\",i,\" Prime number is :\",next(primes))"
   ]
  },
  {
   "cell_type": "markdown",
   "id": "171dc8a4",
   "metadata": {},
   "source": [
    "__Q6. Write a python program to print the first 10 Fibonacci numbers using a while loop.__"
   ]
  },
  {
   "cell_type": "code",
   "execution_count": 30,
   "id": "aa8a511b",
   "metadata": {},
   "outputs": [],
   "source": [
    "def print_fibonacci_numbers():\n",
    "    a, b = 0, 1\n",
    "    counter = 0\n",
    "\n",
    "    while counter < 10:\n",
    "        print(a)\n",
    "        a, b = b, a + b\n",
    "        counter += 1"
   ]
  },
  {
   "cell_type": "code",
   "execution_count": 31,
   "id": "2bf01327",
   "metadata": {},
   "outputs": [
    {
     "name": "stdout",
     "output_type": "stream",
     "text": [
      "First 10 fibonacci number are :\n",
      "0\n",
      "1\n",
      "1\n",
      "2\n",
      "3\n",
      "5\n",
      "8\n",
      "13\n",
      "21\n",
      "34\n"
     ]
    }
   ],
   "source": [
    "print(\"First 10 fibonacci number are :\")\n",
    "print_fibonacci_numbers()"
   ]
  },
  {
   "cell_type": "markdown",
   "id": "9b4d0918",
   "metadata": {},
   "source": [
    "__Q7. Write a List Comprehension to iterate through the given string: 'pwskills'.\n",
    "Expected output: ['p', 'w', 's', 'k', 'T', 'T', 'T', 's']__"
   ]
  },
  {
   "cell_type": "code",
   "execution_count": 32,
   "id": "d7610f14",
   "metadata": {},
   "outputs": [
    {
     "data": {
      "text/plain": [
       "['P', 'W', 'S', 'K', 'I', 'L', 'L', 'S']"
      ]
     },
     "execution_count": 32,
     "metadata": {},
     "output_type": "execute_result"
    }
   ],
   "source": [
    "s='PWSKILLS'\n",
    "\n",
    "list(map(lambda s: s,s))"
   ]
  },
  {
   "cell_type": "markdown",
   "id": "8ce7d781",
   "metadata": {},
   "source": [
    "__Q8. Write a python program to check whether a given number is Palindrome or not using a while loop.__"
   ]
  },
  {
   "cell_type": "code",
   "execution_count": 34,
   "id": "287e4a6a",
   "metadata": {},
   "outputs": [
    {
     "name": "stdout",
     "output_type": "stream",
     "text": [
      "Enter a number: 33\n",
      "33 is a palindrome.\n"
     ]
    }
   ],
   "source": [
    "def is_palindrome(num):\n",
    "    temp = num\n",
    "    rev = 0\n",
    "    \n",
    "    while temp > 0:\n",
    "        digit = temp % 10\n",
    "        rev = rev * 10 + digit\n",
    "        temp //= 10\n",
    "    \n",
    "    return num == rev\n",
    "\n",
    "num = int(input(\"Enter a number: \"))\n",
    "if is_palindrome(num):\n",
    "    print(num, \"is a palindrome.\")\n",
    "else:\n",
    "    print(num, \"is not a palindrome.\")"
   ]
  },
  {
   "cell_type": "markdown",
   "id": "78d83830",
   "metadata": {},
   "source": [
    "__Q9. Write a code to print odd numbers from 1 to 100 using list comprehension.\n",
    "Note: Use a list comprehension to create a list from 1 to 100 and use another List comprehension to filter out odd numbers.__"
   ]
  },
  {
   "cell_type": "code",
   "execution_count": 35,
   "id": "2697845a",
   "metadata": {},
   "outputs": [],
   "source": [
    "list1=[ i for i in range(1,101,1)]"
   ]
  },
  {
   "cell_type": "code",
   "execution_count": 40,
   "id": "031feb14",
   "metadata": {},
   "outputs": [
    {
     "name": "stdout",
     "output_type": "stream",
     "text": [
      "[3, 6, 9, 12, 15, 18, 21, 24, 27, 30, 33, 36, 39, 42, 45, 48, 51, 54, 57, 60, 63, 66, 69, 72, 75, 78, 81, 84, 87, 90, 93, 96, 99]\n"
     ]
    }
   ],
   "source": [
    "list_odd=[ i for i in list1 if i%3==0]\n",
    "print(list_odd)"
   ]
  },
  {
   "cell_type": "markdown",
   "id": "af17295e",
   "metadata": {},
   "source": [
    "-------------------------------------------------------------------------------------------- __End__----------------------------------------------------------------------------------------------------------------"
   ]
  }
 ],
 "metadata": {
  "kernelspec": {
   "display_name": "Python 3 (ipykernel)",
   "language": "python",
   "name": "python3"
  },
  "language_info": {
   "codemirror_mode": {
    "name": "ipython",
    "version": 3
   },
   "file_extension": ".py",
   "mimetype": "text/x-python",
   "name": "python",
   "nbconvert_exporter": "python",
   "pygments_lexer": "ipython3",
   "version": "3.9.12"
  },
  "varInspector": {
   "cols": {
    "lenName": 16,
    "lenType": 16,
    "lenVar": 40
   },
   "kernels_config": {
    "python": {
     "delete_cmd_postfix": "",
     "delete_cmd_prefix": "del ",
     "library": "var_list.py",
     "varRefreshCmd": "print(var_dic_list())"
    },
    "r": {
     "delete_cmd_postfix": ") ",
     "delete_cmd_prefix": "rm(",
     "library": "var_list.r",
     "varRefreshCmd": "cat(var_dic_list()) "
    }
   },
   "types_to_exclude": [
    "module",
    "function",
    "builtin_function_or_method",
    "instance",
    "_Feature"
   ],
   "window_display": false
  }
 },
 "nbformat": 4,
 "nbformat_minor": 5
}
